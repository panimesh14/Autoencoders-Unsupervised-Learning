{
  "cells": [
    {
      "cell_type": "markdown",
      "metadata": {
        "id": "view-in-github",
        "colab_type": "text"
      },
      "source": [
        "<a href=\"https://colab.research.google.com/github/panimesh14/Autoencoders-Unsupervised-Learning/blob/main/Autoencoder_Model_for_Image_Denoising_and_Image_Reconstruction_of_Fashion_MNIST_dataset.ipynb\" target=\"_parent\"><img src=\"https://colab.research.google.com/assets/colab-badge.svg\" alt=\"Open In Colab\"/></a>"
      ]
    },
    {
      "cell_type": "markdown",
      "metadata": {
        "id": "xVfUOyYhoOqJ"
      },
      "source": [
        "# Simple Auto-Encoder for Image Denoising"
      ]
    },
    {
      "cell_type": "code",
      "execution_count": null,
      "metadata": {
        "id": "6sxZY55IoKXc"
      },
      "outputs": [],
      "source": [
        "import numpy as np\n",
        "import pandas as pd\n",
        "import matplotlib.pyplot as plt\n",
        "import seaborn as sns"
      ]
    },
    {
      "cell_type": "code",
      "execution_count": null,
      "metadata": {
        "id": "nIcA89xzotJF"
      },
      "outputs": [],
      "source": [
        "#Data Loading\n",
        "from tensorflow.keras.datasets import fashion_mnist\n",
        "(Xtrain,ytrain),(Xtest,ytest)=fashion_mnist.load_data()"
      ]
    },
    {
      "cell_type": "code",
      "execution_count": null,
      "metadata": {
        "id": "1DETY7tKrn9X"
      },
      "outputs": [],
      "source": [
        "num,m,n= Xtrain.shape"
      ]
    },
    {
      "cell_type": "markdown",
      "metadata": {
        "id": "rtr3Nsa0o5PC"
      },
      "source": [
        "# Data Preparation"
      ]
    },
    {
      "cell_type": "code",
      "execution_count": null,
      "metadata": {
        "id": "7MK7IVreovGa"
      },
      "outputs": [],
      "source": [
        "#Scaling and Normalization\n",
        "#from sklearn.preprocessing import MinMaxScaler\n",
        "#scaler = MinMaxScaler()\n",
        "#scaler.fit(Xtrain[1])\n",
        "Xtrain = Xtrain/(Xtrain.max())\n",
        "#Xtest=scaler.transform(Xtest[:,:,1])"
      ]
    },
    {
      "cell_type": "code",
      "execution_count": null,
      "metadata": {
        "colab": {
          "base_uri": "https://localhost:8080/",
          "height": 300
        },
        "id": "E2mLEdbao3S_",
        "outputId": "7ab877a7-ce3a-4345-ddd1-810a0ba6660c"
      },
      "outputs": [
        {
          "data": {
            "text/plain": [
              "<matplotlib.image.AxesImage at 0x7feedb1fa910>"
            ]
          },
          "execution_count": 124,
          "metadata": {},
          "output_type": "execute_result"
        },
        {
          "data": {
            "image/png": "[encoded data removed]",
            "text/plain": [
              "<Figure size 432x288 with 1 Axes>"
            ]
          },
          "metadata": {},
          "output_type": "display_data"
        }
      ],
      "source": [
        "plt.imshow(Xtrain[5])"
      ]
    },
    {
      "cell_type": "code",
      "execution_count": null,
      "metadata": {
        "id": "aPeel4kZo9YY"
      },
      "outputs": [],
      "source": [
        ""
      ]
    },
    {
      "cell_type": "markdown",
      "metadata": {
        "id": "IXSHZ_6io9yy"
      },
      "source": [
        "# Model Building"
      ]
    },
    {
      "cell_type": "code",
      "execution_count": null,
      "metadata": {
        "id": "Wi83RnmRu7DN"
      },
      "outputs": [],
      "source": [
        "from tensorflow.keras.models import Sequential\n",
        "from tensorflow.keras.layers import Flatten, Dense, Reshape"
      ]
    },
    {
      "cell_type": "code",
      "execution_count": null,
      "metadata": {
        "colab": {
          "base_uri": "https://localhost:8080/"
        },
        "id": "9jasPHN5pCy8",
        "outputId": "7cc1f655-bbf5-45ad-e163-e613daf94ac1"
      },
      "outputs": [
        {
          "data": {
            "text/plain": [
              "<bound method Model.summary of <keras.engine.sequential.Sequential object at 0x7feedb1b1490>>"
            ]
          },
          "execution_count": 126,
          "metadata": {},
          "output_type": "execute_result"
        }
      ],
      "source": [
        "#Encoder\n",
        "encoder=Sequential();\n",
        "encoder.add(Flatten())\n",
        "encoder.add(Dense(500, input_shape=[m,n], activation='relu'))\n",
        "encoder.add(Dense(400, activation='relu'))\n",
        "encoder.add(Dense(300, activation='relu'))\n",
        "encoder.add(Dense(200, activation='relu'))\n",
        "encoder.add(Dense(100, activation='relu'))\n",
        "encoder.add(Dense(50, activation='relu'))\n",
        "encoder.add(Dense(25, activation='relu'))\n",
        "#encoder.compile(loss='mse',optimizer='adam')\n",
        "encoder.summary"
      ]
    },
    {
      "cell_type": "code",
      "execution_count": null,
      "metadata": {
        "colab": {
          "base_uri": "https://localhost:8080/"
        },
        "id": "UdBKl8CGpC-s",
        "outputId": "f1bec5df-384b-46bf-c569-e0f96c8b65eb"
      },
      "outputs": [
        {
          "data": {
            "text/plain": [
              "<bound method Model.summary of <keras.engine.sequential.Sequential object at 0x7feedb24cc90>>"
            ]
          },
          "execution_count": 127,
          "metadata": {},
          "output_type": "execute_result"
        }
      ],
      "source": [
        "#Decoder\n",
        "decoder=Sequential();\n",
        "decoder.add(Dense(25, input_shape=[25], activation='relu'))\n",
        "decoder.add(Dense(50, activation='relu'))\n",
        "decoder.add(Dense(100, activation='relu'))\n",
        "decoder.add(Dense(200, activation='relu'))\n",
        "decoder.add(Dense(300, activation='relu'))\n",
        "decoder.add(Dense(400, activation='relu'))\n",
        "decoder.add(Dense(500, activation='relu'))\n",
        "decoder.add(Dense(m*n, activation='sigmoid'))\n",
        "decoder.add(Reshape([m, n]))\n",
        "decoder.summary"
      ]
    },
    {
      "cell_type": "code",
      "execution_count": null,
      "metadata": {
        "id": "P0a3wvt43pUP"
      },
      "outputs": [],
      "source": [
        "from tensorflow.keras.layers import GaussianNoise\n",
        "noise=GaussianNoise(0.2);\n",
        "noisy_samples=noise(Xtrain,training=True)"
      ]
    },
    {
      "cell_type": "code",
      "execution_count": null,
      "metadata": {
        "colab": {
          "base_uri": "https://localhost:8080/"
        },
        "id": "a0jsFgWepDZn",
        "outputId": "a31c1037-c414-4b86-ab39-a206f7337cb2"
      },
      "outputs": [
        {
          "data": {
            "text/plain": [
              "<bound method Model.summary of <keras.engine.sequential.Sequential object at 0x7feedb1794d0>>"
            ]
          },
          "execution_count": 129,
          "metadata": {},
          "output_type": "execute_result"
        }
      ],
      "source": [
        "#Auto-Encoder\n",
        "ae=Sequential([encoder,decoder])\n",
        "ae.compile(loss='binary_crossentropy',optimizer='adam')\n",
        "ae.summary"
      ]
    },
    {
      "cell_type": "markdown",
      "metadata": {
        "id": "n18eCxu-pGEl"
      },
      "source": [
        "# Model Testing and Evaluation"
      ]
    },
    {
      "cell_type": "code",
      "execution_count": null,
      "metadata": {
        "colab": {
          "base_uri": "https://localhost:8080/"
        },
        "id": "VYtXrb-DpGZw",
        "outputId": "7b37acb0-ea9f-4e69-8279-1d6b9310819c"
      },
      "outputs": [
        {
          "name": "stdout",
          "output_type": "stream",
          "text": [
            "Epoch 1/10\n",
            "1875/1875 [==============================] - 36s 18ms/step - loss: 0.3421\n",
            "Epoch 2/10\n",
            "1875/1875 [==============================] - 35s 18ms/step - loss: 0.3124\n",
            "Epoch 3/10\n",
            "1875/1875 [==============================] - 35s 19ms/step - loss: 0.3081\n",
            "Epoch 4/10\n",
            "1875/1875 [==============================] - 35s 19ms/step - loss: 0.3026\n",
            "Epoch 5/10\n",
            "1875/1875 [==============================] - 35s 19ms/step - loss: 0.2996\n",
            "Epoch 6/10\n",
            "1875/1875 [==============================] - 35s 18ms/step - loss: 0.2980\n",
            "Epoch 7/10\n",
            "1875/1875 [==============================] - 35s 19ms/step - loss: 0.2971\n",
            "Epoch 8/10\n",
            "1875/1875 [==============================] - 35s 19ms/step - loss: 0.2961\n",
            "Epoch 9/10\n",
            "1875/1875 [==============================] - 34s 18ms/step - loss: 0.2955\n",
            "Epoch 10/10\n",
            "1875/1875 [==============================] - 34s 18ms/step - loss: 0.2947\n"
          ]
        },
        {
          "data": {
            "text/plain": [
              "<keras.callbacks.History at 0x7feedb194f50>"
            ]
          },
          "execution_count": 130,
          "metadata": {},
          "output_type": "execute_result"
        }
      ],
      "source": [
        "#Model Training\n",
        "i=5;\n",
        "ae.fit(Xtrain,Xtrain,epochs=10)"
      ]
    },
    {
      "cell_type": "code",
      "execution_count": null,
      "metadata": {
        "id": "VNy0bNdm4i5v"
      },
      "outputs": [],
      "source": [
        "recon_image=ae.predict(Xtrain);#reconstructed images from autoencoder"
      ]
    },
    {
      "cell_type": "code",
      "execution_count": null,
      "metadata": {
        "colab": {
          "base_uri": "https://localhost:8080/"
        },
        "id": "4nlB49vV5zGT",
        "outputId": "0ba25c38-f81b-450d-9908-ca282cc9b02d"
      },
      "outputs": [
        {
          "data": {
            "text/plain": [
              "<bound method Model.summary of <keras.engine.sequential.Sequential object at 0x7feedb055d10>>"
            ]
          },
          "execution_count": 132,
          "metadata": {},
          "output_type": "execute_result"
        }
      ],
      "source": [
        "encoder.add(noise)\n",
        "denoise_ae=Sequential([encoder,decoder])\n",
        "denoise_ae.compile(loss='binary_crossentropy',optimizer='adam')\n",
        "denoise_ae.summary"
      ]
    },
    {
      "cell_type": "code",
      "execution_count": null,
      "metadata": {
        "colab": {
          "background_save": true,
          "base_uri": "https://localhost:8080/"
        },
        "id": "yqiILgKW6NrZ",
        "outputId": "872964d3-958f-412b-ae71-a7ddf98ee11a"
      },
      "outputs": [
        {
          "name": "stdout",
          "output_type": "stream",
          "text": [
            "Epoch 1/10\n",
            "1875/1875 [==============================] - 35s 19ms/step - loss: 0.2915\n",
            "Epoch 2/10\n",
            "1875/1875 [==============================] - 34s 18ms/step - loss: 0.2911\n",
            "Epoch 3/10\n",
            "1875/1875 [==============================] - 34s 18ms/step - loss: 0.2909\n",
            "Epoch 4/10\n",
            "1875/1875 [==============================] - 34s 18ms/step - loss: 0.2905\n",
            "Epoch 5/10\n",
            "1875/1875 [==============================] - 35s 19ms/step - loss: 0.2907\n",
            "Epoch 6/10\n",
            "1875/1875 [==============================] - 34s 18ms/step - loss: 0.2905\n",
            "Epoch 7/10\n",
            "1875/1875 [==============================] - 34s 18ms/step - loss: 0.2899\n",
            "Epoch 8/10\n",
            "1875/1875 [==============================] - 34s 18ms/step - loss: 0.2900\n",
            "Epoch 9/10\n",
            "1875/1875 [==============================] - 35s 19ms/step - loss: 0.2896\n",
            "Epoch 10/10\n",
            "1875/1875 [==============================] - 34s 18ms/step - loss: 0.2899\n"
          ]
        },
        {
          "data": {
            "text/plain": [
              "<keras.callbacks.History at 0x7feed7ad1650>"
            ]
          },
          "execution_count": 140,
          "metadata": {},
          "output_type": "execute_result"
        }
      ],
      "source": [
        "denoise_ae.fit(Xtrain,Xtrain,epochs=10)"
      ]
    },
    {
      "cell_type": "code",
      "execution_count": null,
      "metadata": {
        "colab": {
          "background_save": true
        },
        "id": "IwcuTFHO6UGi"
      },
      "outputs": [],
      "source": [
        "denoised_sample=denoise_ae.predict(Xtrain)"
      ]
    },
    {
      "cell_type": "code",
      "execution_count": null,
      "metadata": {
        "colab": {
          "background_save": true
        },
        "id": "uuBwpcJYpU30",
        "outputId": "73c94fd6-6137-4b47-832f-0f4af73a7aae"
      },
      "outputs": [
        {
          "data": {
            "text/plain": [
              "Text(0.5, 1.0, 'Reconstructed Image')"
            ]
          },
          "execution_count": 135,
          "metadata": {},
          "output_type": "execute_result"
        },
        {
          "data": {
            "image/png": "[encoded data removed]",
            "text/plain": [
              "<Figure size 432x288 with 2 Axes>"
            ]
          },
          "metadata": {},
          "output_type": "display_data"
        }
      ],
      "source": [
        "#Original Images without noise\n",
        "plt.subplot(1,2,1)\n",
        "plt.imshow(Xtrain[i])\n",
        "plt.title('Original Image')\n",
        "\n",
        "plt.subplot(1,2,2)\n",
        "plt.imshow(recon_image[i])\n",
        "plt.title('Reconstructed Image')\n",
        "#some quality gets deteriorated resulting in a loss"
      ]
    },
    {
      "cell_type": "code",
      "execution_count": null,
      "metadata": {
        "colab": {
          "background_save": true
        },
        "id": "xpZOGeUg4_-8",
        "outputId": "19f98c31-d2e8-4e79-b916-431cfff605c0"
      },
      "outputs": [
        {
          "data": {
            "text/plain": [
              "Text(0.5, 1.0, 'Autoencoder Denoised')"
            ]
          },
          "execution_count": 136,
          "metadata": {},
          "output_type": "execute_result"
        },
        {
          "data": {
            "image/png": "[encoded data removed]",
            "text/plain": [
              "<Figure size 432x288 with 2 Axes>"
            ]
          },
          "metadata": {},
          "output_type": "display_data"
        }
      ],
      "source": [
        "plt.subplot(1,2,1)\n",
        "plt.imshow(noisy_samples[i])\n",
        "plt.title('20% Gaussian Noise Image')\n",
        "\n",
        "plt.subplot(1,2,2)\n",
        "plt.imshow(denoised_sample[i])\n",
        "plt.title('Autoencoder Denoised')\n",
        "# Random noise successfully filtered\n",
        "# Quality not equal to original but still equivalent and better¹"
      ]
    }
  ],
  "metadata": {
    "colab": {
      "name": "Autoencoder Model for Image Denoising and Image Reconstruction of Fashion MNIST dataset.ipynb",
      "provenance": [],
      "authorship_tag": "ABX9TyOorRHbYkEnVtjJoittWj6o",
      "include_colab_link": true
    },
    "kernelspec": {
      "display_name": "Python 3",
      "name": "python3"
    },
    "language_info": {
      "name": "python"
    }
  },
  "nbformat": 4,
  "nbformat_minor": 0
}